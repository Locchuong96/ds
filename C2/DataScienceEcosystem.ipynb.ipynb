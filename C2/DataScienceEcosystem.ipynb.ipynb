{
 "cells": [
  {
   "cell_type": "markdown",
   "id": "b94ad74b-acdd-47fe-8548-7bf9a9ac367c",
   "metadata": {},
   "source": [
    "# Data Science Tools and Ecosystem"
   ]
  },
  {
   "cell_type": "markdown",
   "id": "50c9851f-410a-4f35-80f6-2db247fb895c",
   "metadata": {},
   "source": [
    "In this notebook, Data Science Tools and Ecosystem are summarized."
   ]
  },
  {
   "cell_type": "markdown",
   "id": "849f2dc9-6ee0-4209-b2d3-095fe5417ec2",
   "metadata": {},
   "source": [
    "**Objectives:**\n",
    "- Python\n",
    "- R\n",
    "- Java\n",
    "- Pandas\n",
    "- Numpy"
   ]
  },
  {
   "cell_type": "markdown",
   "id": "03067e3d-2fdf-4cf2-abff-ff767c67f6cb",
   "metadata": {},
   "source": [
    "Some of the popular languages that Data Scientists use are:\n",
    "1. Python\n",
    "2. R\n",
    "3. Java"
   ]
  },
  {
   "cell_type": "markdown",
   "id": "2ca670d8-7ca9-48fd-b99e-a19171ef20c3",
   "metadata": {},
   "source": [
    "Some of the commonly used libraries used by Data Scientists include:\n",
    "1. Pandas\n",
    "2. Numpy\n",
    "3. Matplotlib"
   ]
  },
  {
   "cell_type": "markdown",
   "id": "3c2056e4-b511-476e-86e8-b5a056d5bf2c",
   "metadata": {},
   "source": [
    "|Data Science Tools|\n",
    "|---|\n",
    "|JupyterLite|\n",
    "|JupyterNotebook|\n",
    "|JupyterLab|"
   ]
  },
  {
   "cell_type": "markdown",
   "id": "0f443e87-b08f-47bd-afc8-5dfb3866d646",
   "metadata": {},
   "source": [
    "### Below are a few examples of evaluating arithmetic expressions in Python"
   ]
  },
  {
   "cell_type": "code",
   "execution_count": 1,
   "id": "3d4e5c49-6d9f-41d8-bb27-9f84e6f1ef79",
   "metadata": {
    "tags": []
   },
   "outputs": [
    {
     "data": {
      "text/plain": [
       "17"
      ]
     },
     "execution_count": 1,
     "metadata": {},
     "output_type": "execute_result"
    }
   ],
   "source": [
    "# This a simple arithmetic expression to mutiply then add integers\n",
    "(3*4)+5"
   ]
  },
  {
   "cell_type": "code",
   "execution_count": 4,
   "id": "d1f35b92-bbc2-4588-9308-beb25b45d3e5",
   "metadata": {
    "tags": []
   },
   "outputs": [
    {
     "data": {
      "text/plain": [
       "12000"
      ]
     },
     "execution_count": 4,
     "metadata": {},
     "output_type": "execute_result"
    }
   ],
   "source": [
    "# This will convert 200 minutes to hours by diving by\n",
    "200*60"
   ]
  },
  {
   "cell_type": "markdown",
   "id": "7fec81c5-7c97-4125-b086-bb5cde5d3a4f",
   "metadata": {},
   "source": [
    "## Author\n",
    "Loc Chuong"
   ]
  }
 ],
 "metadata": {
  "kernelspec": {
   "display_name": "Python",
   "language": "python",
   "name": "conda-env-python-py"
  },
  "language_info": {
   "codemirror_mode": {
    "name": "ipython",
    "version": 3
   },
   "file_extension": ".py",
   "mimetype": "text/x-python",
   "name": "python",
   "nbconvert_exporter": "python",
   "pygments_lexer": "ipython3",
   "version": "3.7.12"
  }
 },
 "nbformat": 4,
 "nbformat_minor": 5
}
