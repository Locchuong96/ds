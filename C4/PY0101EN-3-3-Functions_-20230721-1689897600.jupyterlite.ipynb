{
  "metadata": {
    "kernelspec": {
      "name": "python",
      "display_name": "Pyolite",
      "language": "python"
    },
    "language_info": {
      "codemirror_mode": {
        "name": "python",
        "version": 3
      },
      "file_extension": ".py",
      "mimetype": "text/x-python",
      "name": "python",
      "nbconvert_exporter": "python",
      "pygments_lexer": "ipython3",
      "version": "3.8"
    }
  },
  "nbformat_minor": 4,
  "nbformat": 4,
  "cells": [
    {
      "cell_type": "markdown",
      "source": "<p style=\"text-align:center\">\n    <a href=\"https://skills.network\" target=\"_blank\">\n    <img src=\"https://cf-courses-data.s3.us.cloud-object-storage.appdomain.cloud/assets/logos/SN_web_lightmode.png\" width=\"200\" alt=\"Skills Network Logo\">\n    </a>\n</p>\n",
      "metadata": {}
    },
    {
      "cell_type": "markdown",
      "source": "<p style='color: red'><b>NOTE FOR THE AUTHOR. DELETE THIS CELL BEFORE PUBLISHING THE LAB</b></p>\n\n__Resources for creating a JupyterLite notebook:__\n - [Loading data in JupyterLite](https://author.skills.network/docs/labs/jupyterlite#loading-data)\n - [Headings](https://jupyter-notebook.readthedocs.io/en/stable/examples/Notebook/Working%20With%20Markdown%20Cells.html#Headings)\n - [Adding math (LaTeX) content](https://jupyter-notebook.readthedocs.io/en/stable/examples/Notebook/Working%20With%20Markdown%20Cells.html#LaTeX-equations)\n - [Adding images and figures](https://jupyterbook.org/content/figures.html)\n",
      "metadata": {}
    },
    {
      "cell_type": "markdown",
      "source": "# **Lab Title**\n",
      "metadata": {}
    },
    {
      "cell_type": "markdown",
      "source": "Estimated time needed: **X** minutes\n",
      "metadata": {}
    },
    {
      "cell_type": "markdown",
      "source": "Add a concise description of what you will be doing in this lab.\n\n<p style='color: red'>Give the learner a preview of the problem/story that [Subject of the Lab] will end up solving.</p>\n",
      "metadata": {}
    },
    {
      "cell_type": "markdown",
      "source": "## __Table of Contents__\n\n<ol>\n    <li><a href=\"#Objectives\">Objectives</a></li>\n    <li>\n        <a href=\"#Setup\">Setup</a>\n        <ol>\n            <li><a href=\"#Installing-Required-Libraries\">Installing Required Libraries</a></li>\n            <li><a href=\"#Importing-Required-Libraries\">Importing Required Libraries</a></li>\n            <li><a href=\"#Defining-Helper-Functions\">Defining Helper Functions</a></li>\n        </ol>\n    </li>\n    <li>\n        <a href=\"#Background-(optional)\">Background (optional)</a>\n        <ol>\n            <li><a href=\"#What-does-[Subject-of-the-Lab]-do?\">What does [Subject of the Lab] do?</a></li>\n            <li><a href=\"#How-does-[Subject-of-the-Lab]-work?\">How does [Subject of the Lab] work?</a></li>\n        </ol>\n    </li>\n    <li><a href=\"#Example-1---Classification-Problem.--Predicting-the-types-of-Iris-flowers\">Example 1: Classification Problem. Predicting the types of Iris flowers</a></li>\n    <li><a href=\"#Example-2---Model-Building.-Application-of-reading-cheques\">Example 2: Model Building. Application of reading cheques</a></li>\n</ol>\n\n<a href=\"#Exercises\">Exercises</a>\n<ol>\n    <li><a href=\"#Exercise-1---Loading-a-dataset-(wine-dataset)\">Exercise 1. Loading a dataset (wine dataset)</a></li>\n    <li><a href=\"#Exercise-2---Type-in-Exercise-2-subject-here\">Exercise 2. Type in Exercise 2 subject here</a></li>\n    <li><a href=\"#Exercise-3---Type-in-Exercise-3-subject-here\">Exercise 3. Type in Exercise 3 subject here</a></li>\n</ol>\n",
      "metadata": {}
    },
    {
      "cell_type": "markdown",
      "source": "## Objectives\n\nAfter completing this lab you will be able to:\n\n - Use [Subject of Lab] to solve [X kind of Problem].\n",
      "metadata": {}
    },
    {
      "cell_type": "markdown",
      "source": "----\n",
      "metadata": {}
    },
    {
      "cell_type": "markdown",
      "source": "## Setup\n",
      "metadata": {}
    },
    {
      "cell_type": "markdown",
      "source": "For this lab, we will be using the following libraries:\n\n*   [`pandas`](https://pandas.pydata.org/?utm_medium=Exinfluencer&utm_source=Exinfluencer&utm_content=000026UJ&utm_term=10006555&utm_id=NA-SkillsNetwork-Channel-SkillsNetworkCoursesIBMML0187ENSkillsNetwork31430127-2021-01-01) for managing the data.\n*   [`numpy`](https://numpy.org/?utm_medium=Exinfluencer&utm_source=Exinfluencer&utm_content=000026UJ&utm_term=10006555&utm_id=NA-SkillsNetwork-Channel-SkillsNetworkCoursesIBMML0187ENSkillsNetwork31430127-2021-01-01) for mathematical operations.\n*   [`sklearn`](https://scikit-learn.org/stable/?utm_medium=Exinfluencer&utm_source=Exinfluencer&utm_content=000026UJ&utm_term=10006555&utm_id=NA-SkillsNetwork-Channel-SkillsNetworkCoursesIBMML0187ENSkillsNetwork31430127-2021-01-01) for machine learning and machine-learning-pipeline related functions.\n*   [`seaborn`](https://seaborn.pydata.org/?utm_medium=Exinfluencer&utm_source=Exinfluencer&utm_content=000026UJ&utm_term=10006555&utm_id=NA-SkillsNetwork-Channel-SkillsNetworkCoursesIBMML0187ENSkillsNetwork31430127-2021-01-01) for visualizing the data.\n*   [`matplotlib`](https://matplotlib.org/?utm_medium=Exinfluencer&utm_source=Exinfluencer&utm_content=000026UJ&utm_term=10006555&utm_id=NA-SkillsNetwork-Channel-SkillsNetworkCoursesIBMML0187ENSkillsNetwork31430127-2021-01-01) for additional plotting tools.\n",
      "metadata": {}
    },
    {
      "cell_type": "markdown",
      "source": "### Installing Required Libraries\n\nThe following required libraries are pre-installed in the Skills Network Labs environment. However, if you run this notebook commands in a different Jupyter environment (e.g. Watson Studio or Ananconda), you will need to install these libraries by removing the `#` sign before `!mamba` in the code cell below.\n",
      "metadata": {}
    },
    {
      "cell_type": "code",
      "source": "# All Libraries required for this lab are listed below. The libraries pre-installed on Skills Network Labs are commented.\n# !mamba install -qy pandas==1.3.4 numpy==1.21.4 seaborn==0.9.0 matplotlib==3.5.0 scikit-learn==0.20.1\n# Note: If your environment doesn't support \"!mamba install\", use \"!pip install\"",
      "metadata": {},
      "outputs": [],
      "execution_count": null
    },
    {
      "cell_type": "markdown",
      "source": "The following required libraries are __not__ pre-installed in the Skills Network Labs environment. __You will need to run the following cell__ to install them:\n",
      "metadata": {}
    },
    {
      "cell_type": "code",
      "source": "import piplite\nawait piplite.install(['tqdm', 'seaborn', 'skillsnetwork'])",
      "metadata": {},
      "outputs": [],
      "execution_count": null
    },
    {
      "cell_type": "markdown",
      "source": "### Importing Required Libraries\n\n_We recommend you import all required libraries in one place (here):_\n",
      "metadata": {}
    },
    {
      "cell_type": "code",
      "source": "from tqdm import tqdm\nimport skillsnetwork\nimport numpy as np\nimport pandas as pd\nfrom itertools import accumulate\nimport matplotlib.pyplot as plt\nimport seaborn as sns\n%matplotlib inline\nfrom sklearn.preprocessing import StandardScaler\nfrom sklearn.linear_model import LogisticRegression\nfrom sklearn.datasets import load_digits, load_wine\n\n# You can also use this section to suppress warnings generated by your code:\ndef warn(*args, **kwargs):\n    pass\nimport warnings\nwarnings.warn = warn\nwarnings.filterwarnings('ignore')\n\nsns.set_context('notebook')\nsns.set_style('white')",
      "metadata": {},
      "outputs": [],
      "execution_count": null
    },
    {
      "cell_type": "markdown",
      "source": "### Defining Helper Functions\n\n_Use this section to define any helper functions to help the notebook's code readability:_\n",
      "metadata": {}
    },
    {
      "cell_type": "code",
      "source": "# This function will allow us to easily plot data taking in x values, y values, and a title\ndef plotter(x, y, title):\n    plt.plot(x, y)\n    plt.xlabel('X')\n    plt.ylabel('Y')\n    plt.title(title)\n    plt.show()",
      "metadata": {},
      "outputs": [],
      "execution_count": null
    },
    {
      "cell_type": "markdown",
      "source": "## Background (optional)\n\n_It can be helpful to give an intuitive explanation of the subject of your notebook_.\n\n<p style='color: blue'>For example, if the lab were about Logistic Regression:</p>\n\nBefore we begin using **Logistic Regression**, we should first understand:\n\n1.  What Logistic Regression does\n2.  How Logistic Regression works\n",
      "metadata": {}
    },
    {
      "cell_type": "markdown",
      "source": "### What does [Subject of the Lab] do?\n\n#### [Subject of the Lab]:\n\n - Solves X kind of problem by doing Y\n",
      "metadata": {}
    },
    {
      "cell_type": "markdown",
      "source": "### How does [Subject of the Lab] work?\n\n#### [Subject of the Lab]:\n\n 1. \n 2. \n 3. \n\nPutting it all together:\n\n<img src=\"https://cf-courses-data.s3.us.cloud-object-storage.appdomain.cloud/template/images/perceptron.jpeg\" width=\"30%\" alt=\"perceptron illustration\">\n\n<p style='color: blue'>We recommend you use diagrams to help your learners' intuition.</p>\n",
      "metadata": {}
    },
    {
      "cell_type": "markdown",
      "source": "## Example 1 - Classification Problem.  Predicting the types of Iris flowers\n\n<img src=\"https://cf-courses-data.s3.us.cloud-object-storage.appdomain.cloud/template/images/iris.jpeg\" width=\"30%\" alt=\"iris image\">\n\n<p style='color:blue'>It can be helpful for the learner to start with a simpler example.</p>\n<p style='color:blue'>We highly recommend you add images and create a story around your examples, to engage the learner and help them remember the specific application:</p>\n\nYour local floriculture would like to keep stock of the different species of iris' it's growing.\n\nA system has been made to collect the:\n - `sepal_length`\n - `sepal_width`\n - `petal_length`\n - `petal_width`\n \nof the flowers.\n\nYour task is to find the specific iris species given this data.\n\nLet's start by loading the iris data into a `pandas.DataFrame`:\n\nSince you're using `jupyterlite`, you will need to use the following method to load datasets:\n",
      "metadata": {}
    },
    {
      "cell_type": "code",
      "source": "await skillsnetwork.download_dataset('https://cf-courses-data.s3.us.cloud-object-storage.appdomain.cloud/IBM-ML0187EN-SkillsNetwork/labs/module%202/iris.csv')\ndf = pd.read_csv('iris.csv')",
      "metadata": {},
      "outputs": [],
      "execution_count": null
    },
    {
      "cell_type": "markdown",
      "source": "Let's look at some samples rows from the dataset we loaded:\n",
      "metadata": {}
    },
    {
      "cell_type": "code",
      "source": "df.sample(5)",
      "metadata": {},
      "outputs": [],
      "execution_count": null
    },
    {
      "cell_type": "markdown",
      "source": "<p style='color: blue'>Since this is a template lab, this section is incomplete.</p>\n",
      "metadata": {}
    },
    {
      "cell_type": "markdown",
      "source": "## Example 2 - Model Building. Application of reading cheques\n\n<img src=\"https://cf-courses-data.s3.us.cloud-object-storage.appdomain.cloud/template/images/cheques.jpeg\" width=\"30%\" alt=\"cheques image\">\n\n<p style='color:blue'>Add stories to your examples to engage the learner and help them remember the use case of the notebook's subject:</p>\n\nYou local bank IMBank is rapidly gaining more users and needs your help!\nIMBank is looking for an experienced data scientist to help them build a system that can automatically read cheques.\n",
      "metadata": {}
    },
    {
      "cell_type": "markdown",
      "source": "First we load data into a `pandas.DataFrame`:\n",
      "metadata": {}
    },
    {
      "cell_type": "code",
      "source": "digits = load_digits()",
      "metadata": {},
      "outputs": [],
      "execution_count": null
    },
    {
      "cell_type": "code",
      "source": "data = digits.data\ntarget = digits.target\ndf = pd.DataFrame(data=np.c_[data, target], columns=[f'x{i}' for i in range(data.shape[1])] + ['y'])\ndf.head()",
      "metadata": {},
      "outputs": [],
      "execution_count": null
    },
    {
      "cell_type": "markdown",
      "source": "Let's look some of our example data:\n",
      "metadata": {}
    },
    {
      "cell_type": "code",
      "source": "plt.gray()\nnrows = 2\nncols = 4\nfig, axes = plt.subplots(nrows=nrows, ncols=ncols)\nit = iter(digits.images)\nfor r in range(nrows):\n    for c in range(ncols):\n        axes[r][c].matshow(next(it))\nplt.show()",
      "metadata": {},
      "outputs": [],
      "execution_count": null
    },
    {
      "cell_type": "markdown",
      "source": "<p style='color: blue'>Since this is a template lab, this section is incomplete</p>\n",
      "metadata": {}
    },
    {
      "cell_type": "markdown",
      "source": "# Exercises\n\n<p style='color:blue'>We recommend you add exercises to your notebook, to help your learners apply what they have learned.</p>\n",
      "metadata": {}
    },
    {
      "cell_type": "code",
      "source": "# Optional (if exercises require datasets):\n\n# !wget [url for dataset used in exercises]",
      "metadata": {},
      "outputs": [],
      "execution_count": null
    },
    {
      "cell_type": "markdown",
      "source": "### Exercise 1 - Loading a dataset (wine dataset)\n",
      "metadata": {}
    },
    {
      "cell_type": "code",
      "source": "df = # TODO",
      "metadata": {},
      "outputs": [],
      "execution_count": null
    },
    {
      "cell_type": "markdown",
      "source": "<details>\n    <summary>Click here for Solution</summary>\n\n```python\nwine = load_wine()\ndata = wine.data\ntarget = wine.target\ndf = pd.DataFrame(data=np.c_[data, target], columns=[f'x{i}' for i in range(data.shape[1])] + ['y'])\n```\n\n</details>\n",
      "metadata": {}
    },
    {
      "cell_type": "markdown",
      "source": "### Exercise 2 - Type in Exercise 2 subject here\n",
      "metadata": {}
    },
    {
      "cell_type": "markdown",
      "source": "Here is a sample question, using the following values, please use the plotter helper function to plot the data. Please type your answer in the available code box below.\n",
      "metadata": {}
    },
    {
      "cell_type": "code",
      "source": "# Add any skeleton code for example 2 here",
      "metadata": {},
      "outputs": [],
      "execution_count": null
    },
    {
      "cell_type": "markdown",
      "source": "<details>\n    <summary>Click here for a Hint</summary>\n    \nSometimes you might want to give a hint instead of the full answer.\n\n</details>\n",
      "metadata": {}
    },
    {
      "cell_type": "markdown",
      "source": "### Exercise 3 - Type in Exercise 3 subject here\n",
      "metadata": {}
    },
    {
      "cell_type": "markdown",
      "source": "Content for Question 3\n",
      "metadata": {}
    },
    {
      "cell_type": "code",
      "source": "# Add any skeleton code for example 3 here",
      "metadata": {},
      "outputs": [],
      "execution_count": null
    },
    {
      "cell_type": "markdown",
      "source": "<details>\n    <summary>Click here for Solution</summary>\n\n```python\n# Enter solution for exercise 3 here.\n```\n\n</details>\n",
      "metadata": {}
    },
    {
      "cell_type": "markdown",
      "source": "## Authors\n",
      "metadata": {}
    },
    {
      "cell_type": "markdown",
      "source": "[Author1 Name (with link to social profile)](author_link)\n",
      "metadata": {}
    },
    {
      "cell_type": "markdown",
      "source": "Author1 Bio (Optional)\n",
      "metadata": {}
    },
    {
      "cell_type": "markdown",
      "source": "Author2 Name\n",
      "metadata": {}
    },
    {
      "cell_type": "markdown",
      "source": "Author2 Bio (Optional)\n",
      "metadata": {}
    },
    {
      "cell_type": "markdown",
      "source": "### Other Contributors\n",
      "metadata": {}
    },
    {
      "cell_type": "markdown",
      "source": "[Contributor with Link](contributor_linl), Contributor No Link\n",
      "metadata": {}
    },
    {
      "cell_type": "markdown",
      "source": "<img src=\"https://cf-courses-data.s3.us.cloud-object-storage.appdomain.cloud/IBMDeveloperSkillsNetwork-PY0101EN-SkillsNetwork/SNIBMfooter.png\" alt=\"\" width=\"\" height=\"\">\n",
      "metadata": {}
    }
  ]
}